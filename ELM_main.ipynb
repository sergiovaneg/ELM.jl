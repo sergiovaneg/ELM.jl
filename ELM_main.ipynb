{
 "cells": [
  {
   "cell_type": "code",
   "execution_count": 21,
   "metadata": {},
   "outputs": [],
   "source": [
    "using MAT\n",
    "include(\"ELM.jl\")"
   ]
  },
  {
   "cell_type": "code",
   "execution_count": null,
   "metadata": {},
   "outputs": [],
   "source": [
    "function build_X_T(dset::Dict, input_vars::Array{String,1}, output_vars::Array{String,1}; clusters_no::Integer = 1, train_ratio::Real = 0.7, output_transform::Function = x -> x, k_ahead::Integer = 0)\n",
    "    X_train = Vector{Matrix{Real}}(undef, 0);\n",
    "    T_train = Vector{Matrix{Real}}(undef, 0);\n",
    "    X_test = Vector{Matrix{Real}}(undef, 0);\n",
    "    T_test = Vector{Matrix{Real}}(undef, 0);\n",
    "\n",
    "    b_dt = [137, -300, 300, -200, 75, -12];\n",
    "    a_dt = [(60*StatsBase.mode(dset[\"time\"][1][2:end]-dset[\"time\"][1][1:end-1]))];\n",
    "\n",
    "    kmeans_matr = Matrix{Real}(undef, 0, 5);\n",
    "\n",
    "    for exp_output ∈ map(output_transform, dset[output_vars[1]])\n",
    "        kmeans_matr = vcat(kmeans_matr,\n",
    "            [Statistics.mean(exp_output),\n",
    "                Statitstics.std(exp_output),\n",
    "                maximum(exp_output),\n",
    "                minimum(exp_output),\n",
    "                Statistics.mean(DSP.filt(b_dt, a_dt, exp_output).^2)]');\n",
    "    end\n",
    "\n",
    "    norm_metrics = kmeans_matr .- minimum(kmeans_matr, dims=1);\n",
    "    norm_metrics ./= maximum(norm_metrics, dims=1);\n",
    "    exp_classes = Clustering.kmeans(norm_metrics', clusters_no).assignments\n",
    "\n",
    "    function build_experiment(exp_idx::Integer)\n",
    "        exp_input = Matrix{Real}(undef, length(dset[\"time\"][exp_idx]), 0);\n",
    "        exp_output = Matrix{Real}(undef, length(dset[\"time\"][exp_idx]), 0);\n",
    "\n",
    "        for input_var ∈ input_vars\n",
    "            exp_input = hcat(exp_input, dset[input_var][exp_idx]);\n",
    "        end\n",
    "        for output_var ∈ output_vars\n",
    "            exp_output = hcat(exp_output, dset[output_var][exp_idx]);\n",
    "        end\n",
    "\n",
    "        return exp_input[1:end-k_ahead,:], exp_output[k_ahead+1:end,:]\n",
    "    end\n",
    "\n",
    "    for class_no ∈ range(1, stop=clusters_no)\n",
    "        indices = Random.shuffle(findall(x -> x==class_no, exp_classes));\n",
    "        train_len = floor(Integer, train_ratio*length(indices));\n",
    "\n",
    "        train_idxs = indices[1:train_len];\n",
    "        test_idxs = indices[train_len+1:end];\n",
    "\n",
    "        for exp_idx ∈ train_idxs\n",
    "            exp_input, exp_output = build_experiment(exp_idx);\n",
    "            push!(X_train, exp_input);\n",
    "            push!(T_train, exp_output);\n",
    "        end\n",
    "\n",
    "        for exp_idx ∈ test_idxs\n",
    "            exp_input, exp_output = build_experiment(exp_idx);\n",
    "            push!(X_test, exp_input);\n",
    "            push!(T_test, exp_output);\n",
    "        end\n",
    "    end\n",
    "\n",
    "    return X_train, T_train, X_test, T_test;\n",
    "end"
   ]
  },
  {
   "cell_type": "code",
   "execution_count": 22,
   "metadata": {},
   "outputs": [
    {
     "data": {
      "text/plain": [
       "2415"
      ]
     },
     "metadata": {},
     "output_type": "display_data"
    }
   ],
   "source": [
    "file = matopen(\"dataset.mat\")\n",
    "dset = read(file, \"dset\")\n",
    "close(file)\n",
    "\n",
    "size(dset[\"Lambda_TB\"][1],1)"
   ]
  },
  {
   "cell_type": "code",
   "execution_count": 23,
   "metadata": {},
   "outputs": [],
   "source": [
    "X_train, T_train, X_test, T_test = build_X_T(dset, [\"Speed\", \"Throttle_MsrdPstn\", \"Lambda_TB\"], [\"Lambda_TB\"], clusters_no = 5);"
   ]
  },
  {
   "cell_type": "code",
   "execution_count": 26,
   "metadata": {},
   "outputs": [
    {
     "data": {
      "text/plain": [
       "typeof(gaussian)"
      ]
     },
     "metadata": {},
     "output_type": "display_data"
    }
   ],
   "source": [
    "a = [1, 1, 1]\n",
    "b = 1\n",
    "data = rand([0,1], 10, 3)\n",
    "\n",
    "# test_neuron = RBF_neuron(a, b, gaussian)\n",
    "typeof(gaussian)"
   ]
  }
 ],
 "metadata": {
  "kernelspec": {
   "display_name": "Julia 1.5.3",
   "language": "julia",
   "name": "julia-1.5"
  },
  "language_info": {
   "file_extension": ".jl",
   "mimetype": "application/julia",
   "name": "julia",
   "version": "1.5.3"
  },
  "orig_nbformat": 4
 },
 "nbformat": 4,
 "nbformat_minor": 2
}
